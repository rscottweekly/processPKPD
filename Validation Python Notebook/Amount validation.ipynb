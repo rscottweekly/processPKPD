{
 "cells": [
  {
   "cell_type": "code",
   "execution_count": null,
   "metadata": {
    "collapsed": true
   },
   "outputs": [],
   "source": [
    "def calc_amt(p, v, r, t):\n",
    "    return (p * v) / (r * t)"
   ]
  },
  {
   "cell_type": "code",
   "execution_count": 1,
   "metadata": {
    "collapsed": true
   },
   "outputs": [],
   "source": [
    "def calc_volatile(time_s, min_vol, fe, fi, pbar, r, t):\n",
    "    #print  \"Time %i\" % time_s\n",
    "    #print \"Minute Volume %f\" % min_vol\n",
    "    #print \"Fe %f\" % fe\n",
    "    #print \"Fi  %d\" % fi\n",
    "    #print pbar\n",
    "    #print r\n",
    "    #print t\n",
    "\n",
    "    pamb = pbar - settings.const_PH2O\n",
    "    period_vol = (time_s / 60) * min_vol\n",
    "    fe_amt = calc_amt(pamb * fe, period_vol, r, t) * 1e6\n",
    "    fi_amt = calc_amt(pamb * fi, period_vol, r, t) * 1e6\n",
    "    return (fi_amt - fe_amt)  # return mmol/L"
   ]
  },
  {
   "cell_type": "code",
   "execution_count": null,
   "metadata": {
    "collapsed": true
   },
   "outputs": [],
   "source": [
    ""
   ]
  }
 ],
 "metadata": {
  "kernelspec": {
   "display_name": "Python 2",
   "language": "python",
   "name": "python2"
  },
  "language_info": {
   "codemirror_mode": {
    "name": "ipython",
    "version": 2.0
   },
   "file_extension": ".py",
   "mimetype": "text/x-python",
   "name": "python",
   "nbconvert_exporter": "python",
   "pygments_lexer": "ipython2",
   "version": "2.7.11"
  }
 },
 "nbformat": 4,
 "nbformat_minor": 0
}